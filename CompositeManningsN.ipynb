{
 "cells": [
  {
   "cell_type": "markdown",
   "id": "0da1890b",
   "metadata": {},
   "source": [
    "<h1>Compositing Manning's n values for HEC-RAS Cross Sections</h1>\n",
    "The code presented in this notebook is meant to be used in tandem with a <a href=\"https://www.hec.usace.army.mil/confluence/rasdocs/rasum/6.0\">HEC-RAS</a> 1D model. Once the Manning's n grid from <a href=\"ProcessRasters.ipynb\">ProcessRasters.ipynb</a> has been imported into HEC-RAS, it is possible to use HEC-RAS Geometry Editor to extract the Manning's n values into the cross section. For almost any case, this will result in too many values for HEC-RAS (at the time of writing, the limit is 20 values per cross section). This notebook shows how to use K-Means clustering to composite the Manning's n values for each cross section, and export those composites into a new HEC-RAS model.\n",
    "\n",
    "***Make sure to back up of your model before inputting it into this code***\n",
    "\n",
    "HEC-RAS saves Cross Section data in text files, which can be manipulated to modify Manning's n within the model. The book <a href=\"https://www.google.com/books/edition/Breaking_the_HEC_RAS_Code/eY7AoQEACAAJ?hl=en\">Breaking the HEC-RAS Code</a> by Chris Goodell covers the structure of the geometry text files quite extensively. \n",
    "\n",
    "For our purposes, Manning's n values are stored as a series of 8-character value pairs: a horizontal river station, and a Manning's n value. There's 9 of these 8-character values in a line of text within the geometry file. Supplementing the text geometry file, there's an HDF file that allows us to read some further properties of each cross section. The general structure of this code is as follows:\n",
    "<ol>\n",
    "<li>Create a copy of the project to make sure we don't overwrite the original model (<b><u>still, please make a backup</b></u>)</li>\n",
    "<li>Read the Manning's n and cross section properties from the geometry HDF file.</li>\n",
    "<li>Calculate the composite values for each cross section based on K-Means clustering</li>\n",
    "<li>Overwrite the copied geometry text file.</li>\n",
    "</ol>"
   ]
  },
  {
   "cell_type": "code",
   "execution_count": 1,
   "id": "ad888a2e",
   "metadata": {},
   "outputs": [
    {
     "name": "stderr",
     "output_type": "stream",
     "text": [
      "c:\\Users\\franc\\miniforge3\\envs\\lidarmanning\\lib\\site-packages\\pandas\\core\\computation\\expressions.py:21: UserWarning: Pandas requires version '2.8.4' or newer of 'numexpr' (version '2.7.3' currently installed).\n",
      "  from pandas.core.computation.check import NUMEXPR_INSTALLED\n"
     ]
    }
   ],
   "source": [
    "import os, h5py, warnings, shutil\n",
    "import numpy as np\n",
    "import pandas as pd\n",
    "from tqdm.auto import tqdm\n",
    "\n",
    "# SCIPY AND SCIKIT-LEARN IMPORTS\n",
    "from scipy.interpolate import NearestNDInterpolator\n",
    "from sklearn.cluster import KMeans # DBSCAN, MeanShift, OPTICS\n",
    "from sklearn.preprocessing import StandardScaler\n",
    "import matplotlib.pyplot as plt\n",
    "\n",
    "# SELF IMPORTS\n",
    "from rasUtils import *\n",
    "\n",
    "# IGNORE SKLEARN KMEANS AND NATURAL NAME WARNINGS\n",
    "warnings.filterwarnings('ignore') "
   ]
  },
  {
   "cell_type": "markdown",
   "id": "8520e718",
   "metadata": {},
   "source": [
    "Locations of input and output files. Indicate where the input HEC-RAS project is, along with the geomety file for modification, and directory for new HEC-RAS project"
   ]
  },
  {
   "cell_type": "code",
   "execution_count": 2,
   "id": "bfc4d1c5",
   "metadata": {},
   "outputs": [],
   "source": [
    "# INPUT HEC-RAS PROJECT DIRECTORY\n",
    "ras_base_path = r\"D:\\Desktop\\Roughness\\hecras\\000_V2\\NLCD\\\\\"\n",
    "\n",
    "# OUTPUT HEC-RAS PROJECT DIRECTORY\n",
    "ras_out_path  = r\"D:\\Desktop\\Roughness\\hecras\\000_V2\\NLCD_comp2\\\\\"\n",
    "\n",
    "# FILENAME OF TEXT GEOMETRY FILE\n",
    "geometry_file = r\"D100-00-00.g01\"\n",
    "\n",
    "# PATH TO TEXT GEOMETRY FILE\n",
    "ras_geo_path  = os.path.join(ras_out_path, geometry_file)\n",
    "\n",
    "# PATH TO HDF GEOMETRY FILE\n",
    "file_path     = os.path.join(ras_base_path, geometry_file + \".hdf\")"
   ]
  },
  {
   "cell_type": "markdown",
   "id": "e44881a9",
   "metadata": {},
   "source": [
    "Parameters for clustering algorithm."
   ]
  },
  {
   "cell_type": "code",
   "execution_count": 3,
   "id": "bbd03638",
   "metadata": {},
   "outputs": [],
   "source": [
    "z_scale          = 2     # SCALING FACTOR FOR Z-AXIS DURING CLUSTERING\n",
    "plot             = True  # DO WE EXPORT PLOTS FOR EACH XS?\n",
    "use_mannings     = False # DO NOT USE. NOT IMPLEMENTED\n",
    "min_num_clusters = 3     # THE MINIMUM NUMBER OF MANNING'S ROUGHNESSES FOR EACH CROSS SECTION\n",
    "mann_read_sp     = 800   # SPAN FOR MANNINGS REGION. DETERMINES HOW OFTEN WE CLUSTER PER XS (num_clusters = xs_len // mann_read_sp + 1). \n",
    "                         # SET TO NONE TO USE MINIMUM FOR ALL XS."
   ]
  },
  {
   "cell_type": "markdown",
   "id": "f682b153",
   "metadata": {},
   "source": [
    "Read geometry attributes from HDF file"
   ]
  },
  {
   "cell_type": "code",
   "execution_count": 4,
   "id": "7b44b151",
   "metadata": {},
   "outputs": [],
   "source": [
    "file = h5py.File(file_path)\n",
    "file_attributes = pd.read_hdf(file_path, \"Geometry/Cross Sections/Attributes\")\n",
    "\n",
    "elev_info = file[\"Geometry\"][\"Cross Sections\"][\"Station Elevation Info\"][:]\n",
    "elev      = file[\"Geometry\"][\"Cross Sections\"][\"Station Elevation Values\"][:]\n",
    "mann_info = file[\"Geometry\"][\"Cross Sections\"][\"Manning's n Info\"][:]\n",
    "mann      = file[\"Geometry\"][\"Cross Sections\"][\"Manning's n Values\"][:]"
   ]
  },
  {
   "cell_type": "markdown",
   "id": "6219a265",
   "metadata": {},
   "source": [
    "Create destination folder for output HEC-RAS project"
   ]
  },
  {
   "cell_type": "code",
   "execution_count": 5,
   "id": "e21dada4-dd13-4f0c-a50f-9aa646a6785e",
   "metadata": {},
   "outputs": [],
   "source": [
    "def copy_folder(src_folder, dst_folder):\n",
    "    # COPIES FOLDER, DELETING DESTINATION FOLDER IF NEEDED\n",
    "    if os.path.exists(dst_folder):\n",
    "        shutil.rmtree(dst_folder)\n",
    "    shutil.copytree(src_folder, dst_folder)\n",
    "\n",
    "copy_folder(ras_base_path, ras_out_path)\n",
    "\n",
    "with open(ras_geo_path, 'r') as file:\n",
    "    lines = file.readlines()"
   ]
  },
  {
   "cell_type": "markdown",
   "id": "35e6f947",
   "metadata": {},
   "source": [
    "Bulk of processing occurs here - cluster each cross section, and get text lines to add in geometry text file."
   ]
  },
  {
   "cell_type": "code",
   "execution_count": 6,
   "id": "1ed3d5de",
   "metadata": {},
   "outputs": [
    {
     "data": {
      "application/vnd.jupyter.widget-view+json": {
       "model_id": "da56de9bfcb74fc4ac4d614728bc390e",
       "version_major": 2,
       "version_minor": 0
      },
      "text/plain": [
       "  0%|          | 0/387 [00:00<?, ?it/s]"
      ]
     },
     "metadata": {},
     "output_type": "display_data"
    },
    {
     "name": "stdout",
     "output_type": "stream",
     "text": [
      "River: D100-00-00 RS: 157812 only has 3 Manning's n values, determined 3 clusters with 640.96 XS length. Skipping.\n",
      "River: D100-00-00 RS: 157586 only has 2 Manning's n values, determined 3 clusters with 640.96 XS length. Skipping.\n"
     ]
    }
   ],
   "source": [
    "if plot: \n",
    "    # IF WE'RE PLOTTING, CREATE OUTPUT DIRECTORY FOR PLOTS IN OUTPUT HEC-RAS PROJECT FOLDER\n",
    "    plot_path = os.path.join(ras_out_path, \"xs_plots/\")\n",
    "    os.makedirs(plot_path, exist_ok=True)\n",
    "\n",
    "scaler     = StandardScaler()\n",
    "\n",
    "values  = []            # DEBUGGING STRUCTURE TO KEEP TRACK OF SORTED MANNING'S N VALUES FOR EACH CROSS SECTION\n",
    "output_text_lines = []  # TEXT LINES OBTAINED FOR EACH CROSS SECTION\n",
    "\n",
    "# FOR EACH CROSS SECTION\n",
    "for idx in tqdm(range(elev_info.shape[0])):\n",
    "\n",
    "    elevations = getElevations(idx, elev_info, elev) # GET HORIZONTAL STATION ELEVATION\n",
    "    mannings   = getMannings(idx, mann_info, mann)   # GET MANNING'S N FOR EACH HORIZONTAL STATION\n",
    "    \n",
    "    xs_len = np.max(elevations[:, 0]) # CROSS SECTION LENGTH\n",
    "\n",
    "    if mann_read_sp is not None:\n",
    "        # CALCULATE HOW MANY CLUSTERS WE NEED\n",
    "        num_clusters = int(xs_len // mann_read_sp + 1)\n",
    "    \n",
    "        # ENFORCE MINIMUM NUMBER OF CLUSTERS\n",
    "        if num_clusters < min_num_clusters:\n",
    "            num_clusters = min_num_clusters\n",
    "    \n",
    "        # ENFORCE HEC-RAS MAX NUMBER OF CLUSTERS\n",
    "        if num_clusters > 19:\n",
    "            num_clusters = 19\n",
    "    else:\n",
    "        num_clusters = min_num_clusters\n",
    "\n",
    "    # CHECK IF WE ACTUALLY NEED TO SUMMARIZE ANYTHING (SKIP IF THERE'S FEWER MANNING'S N THAN OUTPUT CLUSTERS)\n",
    "    if mannings.shape[0] <= num_clusters:\n",
    "        print(f\"{title(idx, file_attributes)} only has {mannings.shape[0]} Manning's n values, determined {num_clusters} clusters with {xs_len:.2f} XS length. Skipping.\")\n",
    "        text_line = create_Manning_lines(mannings[:, 0].round(3).tolist(), mannings[:, 1].tolist())\n",
    "        output_text_lines.append(text_line)\n",
    "        continue\n",
    "    \n",
    "    clustering = KMeans(n_clusters=num_clusters)\n",
    "    \n",
    "    # INTERPOLATION TO FILL ALL CROSS SECTION COORDINATES WITH MANNING'S N\n",
    "    interpolator = NearestNDInterpolator(transform(mannings[:, 0]), mannings[:, 1])\n",
    "    elev_mannings = interpolator(transform(elevations[:, 0]))\n",
    "\n",
    "    if use_mannings:\n",
    "\n",
    "        raise(Exception(\"Not implemented! Currently, this may result in more XS regions than allowed.\"))\n",
    "        \n",
    "        # NOT IMPLEMENTED BECAUSE IT MAY LEAD TO MORE XS MANNINGS REGIONS\n",
    "        # THAN ALLOWED. IT'S DIFFICULT TO CONTROL HOW MANY CONTIGUOUS REGIONS ARE CREATED IF CONSIDERING THIS\n",
    "        # RECOMMENDED STRATEGY IS TO CREATE TONS OF REGIONS AND THEN GROUP SIMILAR NEIGHBORS.\n",
    "        \n",
    "        # CLUSTER BASED ON X-Z LOCATIONS AND MANNINGS COEFFICIENTS\n",
    "        # SCALE COMPONENTS (DIFFERENT UNITS!)\n",
    "        datastruct  = np.vstack((elevations.T, elev_mannings.T)).T\n",
    "        scaled_data = scaler.fit_transform(datastruct)\n",
    "\n",
    "        # CLUSTER\n",
    "        clustering.fit(scaled_data)\n",
    "        labels = clustering.labels_\n",
    "    else:\n",
    "        # CLUSTER BASED ON X-Z LOCATIONS\n",
    "        datastruct = elevations.copy()\n",
    "        datastruct[:, 1] = datastruct[:, 1] * z_scale\n",
    "        clustering.fit(datastruct)\n",
    "        labels = clustering.labels_\n",
    "    \n",
    "    # CALCULATE WETTED PERIMETER\n",
    "    perimeters = calcWettedPerimeter(elevations)\n",
    "    \n",
    "    region_mann_n  = []\n",
    "    region_station = []\n",
    "\n",
    "    if plot:\n",
    "        plt.figure(figsize=(8, 6))\n",
    "    \n",
    "    # FOR EACH LABEL GET RIVER STATION AND COMPOSE MANNING'S\n",
    "    for label in np.unique(labels): # FOR EACH CLUSTER\n",
    "        mannings    = elev_mannings[labels == label] # GET MANNING'S N\n",
    "        curr_coords = elevations[labels == label]    # GET RIVER STATION ELEVATION\n",
    "        curr_pers   = perimeters[labels == label]    # GET WETTED PERIMETERS\n",
    "        \n",
    "        # COMPOSE MANNING'S N AND APPEND TO OUTPUT LIST \n",
    "        region_mann_n.append(composeManningsN(curr_pers, mannings))\n",
    "\n",
    "        # MINIMUM X-MEASUREMENT FOR RIVER STATION IN CLUSTER \n",
    "        # (HEC-RAS ASSIGNS THE SAME VALUE TO ANY SUBSEQUENT RIVER STATIONS WITH BLANK MANNING'S N)\n",
    "        region_station.append(np.min(curr_coords[:, 0]))\n",
    "\n",
    "        if plot:\n",
    "            plt.scatter(curr_coords[:,0], curr_coords[:, 1], label=f'Cluster {label}', \n",
    "                        s=10, color=np.random.rand(3,))\n",
    "            plt.text(curr_coords[:,0].mean(), curr_coords[:,1].mean(), f\"{region_mann_n[-1]:.3f}\")\n",
    "    if plot:\n",
    "        mytitle = title(idx, file_attributes)\n",
    "        plt.title(mytitle + f\" Clusters: {num_clusters}\")\n",
    "        plt.xlabel(\"XS Station\")\n",
    "        plt.ylabel(\"Elevation\")\n",
    "        plt.savefig(os.path.join(plot_path, mytitle.replace(\":\", \"-\").replace(\" \", \"_\")))\n",
    "        plt.close()\n",
    "\n",
    "    # NOW THAT WE HAVE THE MINIMUM CLUSTER RIVER STATION, ALONG WITH THEIR RESPECTIVE MANNING'S N, WE NEED TO ORDER THEM FROM LEAST TO GREATEST\n",
    "    # SORT LEAST TO GREATEST XS STATION\n",
    "    sorted_list = sorted(zip(region_station, region_mann_n))\n",
    "\n",
    "    # EXTEND DEBUGGING OUTPUT STRUCTURE \n",
    "    values.extend(sorted_list)\n",
    "    \n",
    "    # GET TEXT LINES TO REPLACE IN TEXT GEOMETRY FILE FOR THIS CROSS SECTION\n",
    "    text_line = create_Manning_lines(region_station, region_mann_n)\n",
    "    output_text_lines.append(text_line)"
   ]
  },
  {
   "cell_type": "markdown",
   "id": "54c55914",
   "metadata": {},
   "source": [
    "Find where we need to replace the lines in text geometry file (```\"#Mann=\"``` is the start and ```\"#Bank Sta=\"``` is the end)"
   ]
  },
  {
   "cell_type": "code",
   "execution_count": 7,
   "id": "925a9c61",
   "metadata": {},
   "outputs": [],
   "source": [
    "def get_matching_line_indices(lines, starting_string):\n",
    "    return [idx for idx, line in enumerate(lines) if line.startswith(starting_string)]\n",
    "\n",
    "# FIND THE INDICES OF LINES TO REPLACE MANNING'S N\n",
    "start_lines = get_matching_line_indices(lines, \"#Mann=\")\n",
    "end_lines   = get_matching_line_indices(lines, \"Bank Sta=\")"
   ]
  },
  {
   "cell_type": "markdown",
   "id": "f3cc93bc",
   "metadata": {},
   "source": [
    "Save text geometry file based on outputs"
   ]
  },
  {
   "cell_type": "code",
   "execution_count": 8,
   "id": "d0e54f62",
   "metadata": {},
   "outputs": [],
   "source": [
    "# REVERSE ORDER ALLOWS US TO USE THE INDICES WE FOUND BEFORE (IF WE WENT FORWARD, WE WOULD CHANGE THE LINE INDICES)\n",
    "for i, start_line in reversed(list(enumerate(start_lines))):\n",
    "    end_line = end_lines[i]\n",
    "    \n",
    "    # DELETE LINES \n",
    "    del lines[start_line:end_line]\n",
    "    \n",
    "    # INSERT LINES\n",
    "    lines[start_line:start_line] = output_text_lines[i]\n",
    "    \n",
    "# WRITE FILE\n",
    "with open(ras_geo_path, 'a') as file:\n",
    "    file.truncate(0)\n",
    "    file.writelines(lines)"
   ]
  }
 ],
 "metadata": {
  "kernelspec": {
   "display_name": "Python 3 (ipykernel)",
   "language": "python",
   "name": "python3"
  },
  "language_info": {
   "codemirror_mode": {
    "name": "ipython",
    "version": 3
   },
   "file_extension": ".py",
   "mimetype": "text/x-python",
   "name": "python",
   "nbconvert_exporter": "python",
   "pygments_lexer": "ipython3",
   "version": "3.9.19"
  }
 },
 "nbformat": 4,
 "nbformat_minor": 5
}
