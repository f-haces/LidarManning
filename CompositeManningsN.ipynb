{
 "cells": [
  {
   "cell_type": "code",
   "execution_count": 1,
   "id": "ad888a2e",
   "metadata": {},
   "outputs": [],
   "source": [
    "import h5py, os, shutil\n",
    "import numpy as np\n",
    "from scipy.interpolate import NearestNDInterpolator\n",
    "from sklearn.cluster import KMeans, DBSCAN, MeanShift, OPTICS\n",
    "from sklearn.preprocessing import StandardScaler\n",
    "import matplotlib.pyplot as plt\n",
    "import pandas as pd\n",
    "from tqdm.notebook import tqdm\n",
    "\n",
    "import warnings\n",
    "from tables import NaturalNameWarning\n",
    "# IGNORE SKLEARN KMEANS AND NATURAL NAME WARNINGS\n",
    "warnings.filterwarnings('ignore') "
   ]
  },
  {
   "cell_type": "code",
   "execution_count": 2,
   "id": "ed93cee8",
   "metadata": {},
   "outputs": [],
   "source": []
  },
  {
   "cell_type": "code",
   "execution_count": 3,
   "id": "bfc4d1c5",
   "metadata": {},
   "outputs": [],
   "source": [
    "ras_base_path = r\"D:\\Desktop\\Roughness\\hecras\\000_V2\\NLCD\\\\\"\n",
    "file_path     = os.path.join(ras_base_path, \"D100-00-00.g01.hdf\")\n",
    "ras_out_path  = r\"D:\\Desktop\\Roughness\\hecras\\000_V2\\NLCD_comp\\\\\"\n",
    "ras_geo_path  = os.path.join(ras_out_path, \"D100-00-00.g01\")\n",
    "\n",
    "z_scale          = 2     # SCALING FACTOR FOR Z-AXIS DURING CLUSTERING\n",
    "plot             = True  # DO WE EXPORT PLOTS FOR EACH XS?\n",
    "use_mannings     = False # DO NOT USE. NOT IMPLEMENTED\n",
    "min_num_clusters = 3     # THE MINIMUM NUMBER OF MANNING'S ROUGHNESSES FOR EACH CROSS SECTION\n",
    "mann_read_sp     = 800   # SPAN FOR MANNINGS REGION. DETERMINES HOW OFTEN WE CLUSTER PER XS (num_clusters = xs_len // mann_read_sp + 1). \n",
    "                         # SET TO NONE TO USE MINIMUM FOR ALL XS.\n",
    "\n",
    "file = h5py.File(file_path)\n",
    "file_attributes = pd.read_hdf(file_path, \"Geometry/Cross Sections/Attributes\")"
   ]
  },
  {
   "cell_type": "code",
   "execution_count": 4,
   "id": "e459f8fc",
   "metadata": {},
   "outputs": [],
   "source": [
    "elev_info = file[\"Geometry\"][\"Cross Sections\"][\"Station Elevation Info\"][:]\n",
    "elev      = file[\"Geometry\"][\"Cross Sections\"][\"Station Elevation Values\"][:]\n",
    "mann_info = file[\"Geometry\"][\"Cross Sections\"][\"Manning's n Info\"][:]\n",
    "mann      = file[\"Geometry\"][\"Cross Sections\"][\"Manning's n Values\"][:]"
   ]
  },
  {
   "cell_type": "code",
   "execution_count": 5,
   "id": "e21dada4-dd13-4f0c-a50f-9aa646a6785e",
   "metadata": {},
   "outputs": [],
   "source": [
    "copy_folder(ras_base_path, ras_out_path)\n",
    "\n",
    "with open(ras_geo_path, 'r') as file:\n",
    "    lines = file.readlines()"
   ]
  },
  {
   "cell_type": "code",
   "execution_count": 6,
   "id": "1ed3d5de",
   "metadata": {},
   "outputs": [
    {
     "data": {
      "application/vnd.jupyter.widget-view+json": {
       "model_id": "1fb8d8e47006438b80d09b0b49a69c36",
       "version_major": 2,
       "version_minor": 0
      },
      "text/plain": [
       "  0%|          | 0/387 [00:00<?, ?it/s]"
      ]
     },
     "metadata": {},
     "output_type": "display_data"
    },
    {
     "name": "stdout",
     "output_type": "stream",
     "text": [
      "River: D100-00-00 RS: 157812 only has 3 Manning's n values, determined 3 clusters with 640.96 XS length. Skipping.\n",
      "River: D100-00-00 RS: 157586 only has 2 Manning's n values, determined 3 clusters with 640.96 XS length. Skipping.\n"
     ]
    }
   ],
   "source": [
    "if plot: \n",
    "    plot_path = os.path.join(ras_out_path, \"xs_plots/\")\n",
    "    os.makedirs(plot_path, exist_ok=True)\n",
    "\n",
    "scaler     = StandardScaler()\n",
    "\n",
    "indices = []\n",
    "values  = []\n",
    "\n",
    "output_text_lines = []\n",
    "\n",
    "for idx in tqdm(range(elev_info.shape[0])):\n",
    "    \n",
    "    elevations = getElevations(idx, elev_info, elev)\n",
    "    mannings   = getMannings(idx, mann_info, mann)\n",
    "    \n",
    "    xs_len = np.max(elevations[:, 0])\n",
    "\n",
    "    if mann_read_sp is not None:\n",
    "        # CALCULATE HOW MANY CLUSTERS WE NEED\n",
    "        num_clusters = int(xs_len // mann_read_sp + 1)\n",
    "    \n",
    "        # ENFORCE MINIMUM NUMBER OF CLUSTERS\n",
    "        if num_clusters < min_num_clusters:\n",
    "            num_clusters = min_num_clusters\n",
    "    \n",
    "        # ENFORCE HEC-RAS MAX NUMBER OF CLUSTERS\n",
    "        if num_clusters > 19:\n",
    "            num_clusters = 19\n",
    "    else:\n",
    "        num_clusters = min_num_clusters\n",
    "\n",
    "    # CHECK IF WE ACTUALLY NEED TO SUMMARIZE ANYTHING\n",
    "    if mannings.shape[0] <= num_clusters:\n",
    "        print(f\"{title(idx, file_attributes)} only has {mannings.shape[0]} Manning's n values, determined {num_clusters} clusters with {xs_len:.2f} XS length. Skipping.\")\n",
    "        text_line = create_Manning_lines(mannings[:, 0].round(3).tolist(), mannings[:, 1].tolist())\n",
    "        output_text_lines.append(text_line)\n",
    "        continue\n",
    "    \n",
    "    clustering = KMeans(n_clusters=num_clusters)\n",
    "    \n",
    "    # INTERPOLATION TO FILL ALL CROSS SECTION COORDINATES WITH MANNING'S N\n",
    "    interpolator = NearestNDInterpolator(transform(mannings[:, 0]), mannings[:, 1])\n",
    "    elev_mannings = interpolator(transform(elevations[:, 0]))\n",
    "\n",
    "    if use_mannings:\n",
    "\n",
    "        raise(Exception(\"Not implemented! Currently, this may result in more XS regions than allowed.\"))\n",
    "        \n",
    "        # NOT IMPLEMENTED BECAUSE IT MAY LEAD TO MORE XS MANNINGS REGIONS\n",
    "        # THAN ALLOWED. IT'S DIFFICULT TO CONTROL HOW MANY CONTIGUOUS REGIONS ARE CREATED IF CONSIDERING THIS\n",
    "        # RECOMMENDED STRATEGY IS TO CREATE TONS OF REGIONS AND THEN GROUP SIMILAR NEIGHBORS.\n",
    "        \n",
    "        # CLUSTER BASED ON X-Z LOCATIONS AND MANNINGS COEFFICIENTS\n",
    "        # SCALE COMPONENTS (DIFFERENT UNITS!)\n",
    "        datastruct  = np.vstack((elevations.T, elev_mannings.T)).T\n",
    "        scaled_data = scaler.fit_transform(datastruct)\n",
    "\n",
    "        # CLUSTER\n",
    "        clustering.fit(scaled_data)\n",
    "        labels = clustering.labels_\n",
    "    else:\n",
    "        # CLUSTER BASED ON X-Z LOCATIONS\n",
    "        datastruct = elevations.copy()\n",
    "        datastruct[:, 1] = datastruct[:, 1] * z_scale\n",
    "        clustering.fit(datastruct)\n",
    "        labels = clustering.labels_\n",
    "    \n",
    "    # CALCULATE WETTED PERIMETER\n",
    "    perimeters = calcWettedPerimeter(elevations)\n",
    "    \n",
    "    region_mann_n  = []\n",
    "    region_station = []\n",
    "\n",
    "    if plot:\n",
    "        plt.figure(figsize=(8, 6))\n",
    "    \n",
    "    # FOR EACH LABEL GET RIVER STATION AND COMPOSE MANNING'S\n",
    "    for label in np.unique(labels):\n",
    "        mannings    = elev_mannings[labels == label]\n",
    "        curr_coords = elevations[labels == label]\n",
    "        curr_pers   = perimeters[labels == label]\n",
    "        \n",
    "        region_mann_n.append(composeManningsN(curr_pers, mannings))\n",
    "        region_station.append(np.min(curr_coords[:, 0]))\n",
    "        if plot:\n",
    "            plt.scatter(curr_coords[:,0], curr_coords[:, 1], label=f'Cluster {label}', \n",
    "                        s=10, color=np.random.rand(3,))\n",
    "            plt.text(curr_coords[:,0].mean(), curr_coords[:,1].mean(), f\"{region_mann_n[-1]:.3f}\")\n",
    "    if plot:\n",
    "        mytitle = title(idx, file_attributes)\n",
    "        plt.title(mytitle + f\" Clusters: {num_clusters}\")\n",
    "        plt.xlabel(\"XS Station\")\n",
    "        plt.ylabel(\"Elevation\")\n",
    "        plt.savefig(os.path.join(plot_path, mytitle.replace(\":\", \"-\").replace(\" \", \"_\")))\n",
    "        plt.close()\n",
    "\n",
    "    # SORT LEAST TO GREATEST XS STATION\n",
    "    sorted_list = sorted(zip(region_station, region_mann_n))\n",
    "\n",
    "    # EXTEND\n",
    "    values.extend(sorted_list)\n",
    "    \n",
    "    # GET MANNING LINES\n",
    "    text_line = create_Manning_lines(region_station, region_mann_n)\n",
    "    output_text_lines.append(text_line)"
   ]
  },
  {
   "cell_type": "code",
   "execution_count": 7,
   "id": "925a9c61",
   "metadata": {},
   "outputs": [],
   "source": [
    "def get_matching_line_indices(lines, starting_string):\n",
    "    return [idx for idx, line in enumerate(lines) if line.startswith(starting_string)]\n",
    "\n",
    "start_lines = get_matching_line_indices(lines, \"#Mann=\")\n",
    "end_lines   = get_matching_line_indices(lines, \"Bank Sta=\")"
   ]
  },
  {
   "cell_type": "code",
   "execution_count": 8,
   "id": "d0e54f62",
   "metadata": {},
   "outputs": [],
   "source": [
    "# REVERSE ORDER TO NOT AFFECT PREVIOUS DETECTIONS\n",
    "for i, start_line in reversed(list(enumerate(start_lines))):\n",
    "    end_line = end_lines[i]\n",
    "    \n",
    "    # DELETE LINES\n",
    "    del lines[start_line:end_line]\n",
    "    \n",
    "    # INSERT LINES\n",
    "    lines[start_line:start_line] = output_text_lines[i]\n",
    "    \n",
    "with open(ras_geo_path, 'a') as file:\n",
    "    file.truncate(0)\n",
    "    file.writelines(lines)"
   ]
  },
  {
   "cell_type": "code",
   "execution_count": 9,
   "id": "04027ecc",
   "metadata": {},
   "outputs": [
    {
     "data": {
      "text/plain": [
       "'def updateField(file, fieldName, values):\\n    data = file[fieldName]\\n    data = np.array(values)\\n\\nshutil.copyfile(file_path, out_file_path)\\nout_file = h5py.File(out_file_path, \\'r+\\')\\n# out_file[\"Geometry/Cross Sections/Manning\\'s n Info\"] = np.array(indices)\\n# out_file[\"Geometry/Cross Sections/Manning\\'s n Values\"] = np.array(values)\\nupdateField(out_file, \"Geometry/Cross Sections/Manning\\'s n Info\", np.array(indices))\\nupdateField(out_file, \"Geometry/Cross Sections/Manning\\'s n Values\", np.array(values))\\nout_file.close()'"
      ]
     },
     "execution_count": 9,
     "metadata": {},
     "output_type": "execute_result"
    }
   ],
   "source": [
    "'''def updateField(file, fieldName, values):\n",
    "    data = file[fieldName]\n",
    "    data = np.array(values)\n",
    "\n",
    "shutil.copyfile(file_path, out_file_path)\n",
    "out_file = h5py.File(out_file_path, 'r+')\n",
    "# out_file[\"Geometry/Cross Sections/Manning's n Info\"] = np.array(indices)\n",
    "# out_file[\"Geometry/Cross Sections/Manning's n Values\"] = np.array(values)\n",
    "updateField(out_file, \"Geometry/Cross Sections/Manning's n Info\", np.array(indices))\n",
    "updateField(out_file, \"Geometry/Cross Sections/Manning's n Values\", np.array(values))\n",
    "out_file.close()'''"
   ]
  }
 ],
 "metadata": {
  "kernelspec": {
   "display_name": "Python 3 (ipykernel)",
   "language": "python",
   "name": "python3"
  },
  "language_info": {
   "codemirror_mode": {
    "name": "ipython",
    "version": 3
   },
   "file_extension": ".py",
   "mimetype": "text/x-python",
   "name": "python",
   "nbconvert_exporter": "python",
   "pygments_lexer": "ipython3",
   "version": "3.12.2"
  }
 },
 "nbformat": 4,
 "nbformat_minor": 5
}
