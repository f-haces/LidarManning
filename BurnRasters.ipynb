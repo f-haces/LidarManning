{
 "cells": [
  {
   "cell_type": "code",
   "execution_count": 3,
   "id": "41273dec",
   "metadata": {},
   "outputs": [],
   "source": [
    "from osgeo import gdal\n",
    "import rasterio as rio\n",
    "import rasterio.mask\n",
    "import geopandas as gpd\n",
    "import subprocess\n",
    "import numpy as np \n",
    "import matplotlib.pyplot as plt"
   ]
  },
  {
   "cell_type": "code",
   "execution_count": 4,
   "id": "4729204e",
   "metadata": {},
   "outputs": [],
   "source": [
    "def align_rasters(base_raster, raster_to_align, output_file):\n",
    "    # Open base raster to get its projection, resolution, and bounds\n",
    "    base_ds = gdal.Open(base_raster)\n",
    "    projection = base_ds.GetProjection()\n",
    "    geotransform = base_ds.GetGeoTransform()\n",
    "    resolution = (geotransform[1], geotransform[5])\n",
    "    bounds = (geotransform[0], \n",
    "              geotransform[3], \n",
    "              geotransform[0] + geotransform[1] * base_ds.RasterXSize,\n",
    "              geotransform[3] + geotransform[5] * base_ds.RasterYSize)\n",
    "    \n",
    "    \n",
    "    # Build the gdalwarp command\n",
    "    gdalwarp_cmd = [\n",
    "        'gdalwarp',\n",
    "        '-te', f\"{bounds[0]}\", f\"{bounds[1]}\", f\"{bounds[2]}\", f\"{bounds[3]}\",\n",
    "        '-tr', f\"{resolution[0]}\", f\"{resolution[1]}\",\n",
    "        '-s_srs', \"EPSG:2278\",\n",
    "        '-t_srs', projection,\n",
    "        '-r', 'bilinear',\n",
    "        '-overwrite',\n",
    "        raster_to_align,\n",
    "        output_file\n",
    "    ]\n",
    "\n",
    "    # Run gdalwarp\n",
    "    subprocess.run(gdalwarp_cmd)\n",
    "    print(f\"Raster aligned and saved to {output_file}\")\n",
    "    \n"
   ]
  },
  {
   "cell_type": "code",
   "execution_count": 7,
   "id": "8e728363",
   "metadata": {},
   "outputs": [
    {
     "name": "stdout",
     "output_type": "stream",
     "text": [
      "Raster aligned and saved to C:\\Users\\franc\\OneDrive - University Of Houston\\AAA_Flume\\SpringBayou\\Terrain\\\\XS_proj.tif\n"
     ]
    }
   ],
   "source": [
    "base_dir = r\"C:\\Users\\franc\\OneDrive - University Of Houston\\AAA_Flume\\SpringBayou\\Terrain\\\\\"\n",
    "shapes_dir  = r\"C:\\Users\\franc\\OneDrive - University Of Houston\\AAA_Flume\\SpringBayou\\Terrain\\Streams_Buffered.gpkg\"\n",
    "\n",
    "terrain = f\"{base_dir}Terrain_FilledGrid.tif\"\n",
    "# xs1     = f\"{base_dir}CrossSections_100.tif\"\n",
    "xs2     = f\"{base_dir}XS.tif\"\n",
    "# xs1_p   = f\"{base_dir}CrossSections_100_proj.tif\"\n",
    "xs2_p   = f\"{base_dir}XS_proj.tif\"\n",
    "    \n",
    "if True:\n",
    "    # align_rasters(terrain, xs1, xs1_p)\n",
    "    align_rasters(terrain, xs2, xs2_p)"
   ]
  },
  {
   "cell_type": "code",
   "execution_count": 8,
   "id": "f7f5ef59",
   "metadata": {},
   "outputs": [],
   "source": [
    "def burnStreams(terrain_fn, xs_fn, mask=None, convert_ft=False):\n",
    "    if isinstance(terrain_fn, str):\n",
    "        terrain_fn = rio.open(terrain_fn)\n",
    "        terrain = np.array(terrain_fn.read(1))\n",
    "    else:\n",
    "        terrain = terrain_fn\n",
    "        \n",
    "    if convert_ft:\n",
    "        terrain = terrain * 3.28084\n",
    "    \n",
    "    xs_ds = rio.open(xs_fn)\n",
    "    \n",
    "    if mask is not None:\n",
    "        shapes = gpd.read_file(shapes_dir)\n",
    "        shapes_dis = shapes.dissolve()\n",
    "        xs, xs_t = rio.mask.mask(xs_ds, shapes_dis[['geometry']].values.flatten())\n",
    "        \n",
    "        \n",
    "    else:\n",
    "        xs = np.array(xs.read(1))\n",
    "        \n",
    "    \n",
    "    xs[xs == xs_ds.nodata] = 9999\n",
    "    xs = xs[:, ::-1, :]\n",
    "    \n",
    "    terrain = np.where(xs < terrain, xs, terrain)\n",
    "    return terrain, xs"
   ]
  },
  {
   "cell_type": "code",
   "execution_count": 11,
   "id": "f38f4ce6",
   "metadata": {},
   "outputs": [],
   "source": [
    "# terrain_new, xs1 = burnStreams(terrain, xs1_p, mask=shapes_dir, convert_ft=True)\n",
    "terrain_new2, xs2 = burnStreams(terrain, xs2_p, mask=shapes_dir, convert_ft=True)"
   ]
  },
  {
   "cell_type": "code",
   "execution_count": 12,
   "id": "25a2fbe0",
   "metadata": {},
   "outputs": [],
   "source": [
    "savedir = f\"{base_dir}Terrain_burned.tif\"\n",
    "with rio.open(terrain) as src:\n",
    "    with rio.open(savedir, 'w', **src.profile) as dst:\n",
    "        dst.write(terrain_new2[0, :, :], 1)"
   ]
  }
 ],
 "metadata": {
  "kernelspec": {
   "display_name": "Python 3 (ipykernel)",
   "language": "python",
   "name": "python3"
  },
  "language_info": {
   "codemirror_mode": {
    "name": "ipython",
    "version": 3
   },
   "file_extension": ".py",
   "mimetype": "text/x-python",
   "name": "python",
   "nbconvert_exporter": "python",
   "pygments_lexer": "ipython3",
   "version": "3.8.18"
  }
 },
 "nbformat": 4,
 "nbformat_minor": 5
}
