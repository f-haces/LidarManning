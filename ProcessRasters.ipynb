{
 "cells": [
  {
   "cell_type": "markdown",
   "id": "1a13a12d",
   "metadata": {},
   "source": [
    "<h1>Obtaining Manning's n measurements from a lidar point cloud</h1>"
   ]
  },
  {
   "cell_type": "markdown",
   "id": "995ec11a",
   "metadata": {},
   "source": [
    "This code is relatively straightforward; we are just a using the ```getModelGrid_LAS``` function on each point cloud in our ```input_dir```. "
   ]
  },
  {
   "cell_type": "code",
   "execution_count": 1,
   "id": "82ef63a4",
   "metadata": {},
   "outputs": [],
   "source": [
    "import os\n",
    "from tqdm.auto import tqdm\n",
    "from glob import glob\n",
    "\n",
    "from PointUtils import getModelGrid_LAS"
   ]
  },
  {
   "cell_type": "code",
   "execution_count": 2,
   "id": "85b7f52f",
   "metadata": {},
   "outputs": [],
   "source": [
    "# PATH TO PYTORCH WEIGHTS\n",
    "model_dir = r\"MRNN_012024.pth\"\n",
    "\n",
    "# PATH WITH LAZ FILES\n",
    "input_dir = r\"data\\myPointClouds\\\\\"\n",
    "\n",
    "# PATH TO OUTPUT TIF FILES\n",
    "output_dir = r\"data\\myRoughness\\\\\"\n",
    "\n",
    "# WILDCARD TO MATCH POINT CLOUD EXTENSIONS\n",
    "laspy_wildcard = \".laz\""
   ]
  },
  {
   "cell_type": "markdown",
   "metadata": {},
   "source": [
    "Assemble a list of files to process. Filter by which files already exist in output folder; if any tiles have already been processed, skip them."
   ]
  },
  {
   "cell_type": "code",
   "execution_count": 3,
   "metadata": {},
   "outputs": [],
   "source": [
    "full_list = glob(input_dir+\"*\"+laspy_wildcard)\n",
    "proc_list = []\n",
    "\n",
    "for fn in full_list:\n",
    "    raster_name = f\"{output_dir}{os.path.basename(fn)[:-4]}.tif\"\n",
    "    if os.path.exists(raster_name):\n",
    "        continue\n",
    "    else:\n",
    "        proc_list.append(fn)"
   ]
  },
  {
   "cell_type": "markdown",
   "metadata": {},
   "source": [
    "Process LAZ tiles in directory. By default, the DNN runs on a CUDA-enabled device, however, this can be modified by passing the ```device``` argument to ```getModelGrid_LAS```. Users are encouraged to read through the code and documentation in [PointUtils.py](PointUtils.py)."
   ]
  },
  {
   "cell_type": "code",
   "execution_count": 4,
   "metadata": {},
   "outputs": [
    {
     "name": "stdout",
     "output_type": "stream",
     "text": [
      "Processing 1\n"
     ]
    },
    {
     "data": {
      "application/vnd.jupyter.widget-view+json": {
       "model_id": "400add0b86274f74a293d6dc4d2329d2",
       "version_major": 2,
       "version_minor": 0
      },
      "text/plain": [
       "  0%|          | 0/1 [00:00<?, ?it/s]"
      ]
     },
     "metadata": {},
     "output_type": "display_data"
    },
    {
     "data": {
      "application/vnd.jupyter.widget-view+json": {
       "model_id": "707758fef8504aa991757ff740bb3c20",
       "version_major": 2,
       "version_minor": 0
      },
      "text/plain": [
       "  0%|          | 0/7822725 [00:00<?, ?it/s]"
      ]
     },
     "metadata": {},
     "output_type": "display_data"
    },
    {
     "data": {
      "application/vnd.jupyter.widget-view+json": {
       "model_id": "6886236e310940ce8662ee0c8cfca99b",
       "version_major": 2,
       "version_minor": 0
      },
      "text/plain": [
       "  0%|          | 0/2400463 [00:00<?, ?it/s]"
      ]
     },
     "metadata": {},
     "output_type": "display_data"
    },
    {
     "data": {
      "application/vnd.jupyter.widget-view+json": {
       "model_id": "7880a601afa8473aab08e0b63d5e0f01",
       "version_major": 2,
       "version_minor": 0
      },
      "text/plain": [
       "  0%|          | 0/601 [00:00<?, ?it/s]"
      ]
     },
     "metadata": {},
     "output_type": "display_data"
    }
   ],
   "source": [
    "print(f\"Processing {len(proc_list)}\")\n",
    "\n",
    "for fn in tqdm(proc_list, total=len(proc_list)):\n",
    "    raster_name = f\"{output_dir}{os.path.basename(fn)[:-4]}.tif\"\n",
    "    \n",
    "    model_grid = getModelGrid_LAS(fn, model_dir, ground_class=2,\n",
    "                                        save=raster_name,\n",
    "                                        resolution=1,\n",
    "                                        batch_size=4000)"
   ]
  },
  {
   "cell_type": "markdown",
   "id": "a3d5c5c9",
   "metadata": {},
   "source": [
    "At this point, ```output_dir``` will contain a series of roughness tiles, which can be mosaicked together using [GDALVRT](https://gdal.org/drivers/raster/vrt.html) in either the command line or QGIS. The values should thresholded to 0.025 and 0.25, which are the valid measurement regions for the underlying Deep Neural Network. To be input into HEC-RAS, the mosaicked raster must be reclassified to a ```UINT8```, using a tool such as QGIS' [Reclassify by Layer](https://docs.qgis.org/3.34/en/docs/user_manual/processing_algs/qgis/rasteranalysis.html#reclassify-by-layer) tool. "
   ]
  }
 ],
 "metadata": {
  "kernelspec": {
   "display_name": "Python 3 (ipykernel)",
   "language": "python",
   "name": "python3"
  },
  "language_info": {
   "codemirror_mode": {
    "name": "ipython",
    "version": 3
   },
   "file_extension": ".py",
   "mimetype": "text/x-python",
   "name": "python",
   "nbconvert_exporter": "python",
   "pygments_lexer": "ipython3",
   "version": "3.9.19"
  }
 },
 "nbformat": 4,
 "nbformat_minor": 5
}
