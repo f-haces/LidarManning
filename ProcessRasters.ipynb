{
 "cells": [
  {
   "cell_type": "code",
   "execution_count": 1,
   "id": "82ef63a4",
   "metadata": {},
   "outputs": [],
   "source": [
    "import laspy, os\n",
    "import numpy as np\n",
    "from tqdm.auto import tqdm\n",
    "from osgeo import gdal\n",
    "from glob import glob\n",
    "\n",
    "from PointUtils import getModelGrid_LAS"
   ]
  },
  {
   "cell_type": "code",
   "execution_count": 2,
   "id": "85b7f52f",
   "metadata": {},
   "outputs": [
    {
     "name": "stdout",
     "output_type": "stream",
     "text": [
      "Processing 1\n"
     ]
    },
    {
     "data": {
      "application/vnd.jupyter.widget-view+json": {
       "model_id": "d3d0855d20bd46a58c276ba444824921",
       "version_major": 2,
       "version_minor": 0
      },
      "text/plain": [
       "  0%|          | 0/1 [00:00<?, ?it/s]"
      ]
     },
     "metadata": {},
     "output_type": "display_data"
    },
    {
     "data": {
      "application/vnd.jupyter.widget-view+json": {
       "model_id": "5d3da6bbadce4c5c919ea73a31927f43",
       "version_major": 2,
       "version_minor": 0
      },
      "text/plain": [
       "  0%|          | 0/9255724 [00:00<?, ?it/s]"
      ]
     },
     "metadata": {},
     "output_type": "display_data"
    },
    {
     "data": {
      "application/vnd.jupyter.widget-view+json": {
       "model_id": "420a3bcb66ca459cbc08df5e71f9838c",
       "version_major": 2,
       "version_minor": 0
      },
      "text/plain": [
       "  0%|          | 0/2254329 [00:00<?, ?it/s]"
      ]
     },
     "metadata": {},
     "output_type": "display_data"
    },
    {
     "data": {
      "application/vnd.jupyter.widget-view+json": {
       "model_id": "983e14006fc040d2b0e97d16ff67aa2b",
       "version_major": 2,
       "version_minor": 0
      },
      "text/plain": [
       "  0%|          | 0/564 [00:00<?, ?it/s]"
      ]
     },
     "metadata": {},
     "output_type": "display_data"
    }
   ],
   "source": [
    "# PATH TO PYTORCH WEIGHTS\n",
    "model_dir = r\"data\\012024.pth\"\n",
    "\n",
    "# PATH WITH LAZ FILES\n",
    "input_dir = r\"D:\\Desktop\\Roughness\\SpringCreek\\data\\Terrain\\\\\"\n",
    "\n",
    "# PATH TO OUTPUT TIF FILES\n",
    "output_dir = r\"D:\\Desktop\\Roughness\\SpringCreek\\data\\roughness\\\\\"\n",
    "\n",
    "# WILDCARD TO MATCH POINT CLOUD EXTENSIONS\n",
    "laspy_wildcard = \".laz\""
   ]
  },
  {
   "cell_type": "markdown",
   "metadata": {},
   "source": [
    "Assemble a list of files to process. Filter by which files already exist in output folder; if any tiles have already been processed, skip them."
   ]
  },
  {
   "cell_type": "code",
   "execution_count": null,
   "metadata": {},
   "outputs": [],
   "source": [
    "full_list = glob(input_dir+\"*\"+laspy_wildcard)\n",
    "proc_list = []\n",
    "\n",
    "for fn in full_list:\n",
    "    raster_name = f\"{output_dir}{os.path.basename(fn)[:-4]}.tif\"\n",
    "    if os.path.exists(raster_name):\n",
    "        continue\n",
    "    else:\n",
    "        proc_list.append(fn)"
   ]
  },
  {
   "cell_type": "markdown",
   "metadata": {},
   "source": [
    "Process LAZ tiles in directory"
   ]
  },
  {
   "cell_type": "code",
   "execution_count": null,
   "metadata": {},
   "outputs": [],
   "source": [
    "print(f\"Processing {len(proc_list)}\")\n",
    "\n",
    "for fn in tqdm(proc_list, total=len(proc_list)):\n",
    "    raster_name = f\"{output_dir}{os.path.basename(fn)[:-4]}.tif\"\n",
    "    \n",
    "    model_grid, diagnostics = getModelGrid_LAS(fn, model_dir, \n",
    "                                           ground_class=2,\n",
    "                                           save=raster_name,\n",
    "                                           resolution=1,\n",
    "                                           batch_size=4000)"
   ]
  }
 ],
 "metadata": {
  "kernelspec": {
   "display_name": "Python 3 (ipykernel)",
   "language": "python",
   "name": "python3"
  },
  "language_info": {
   "codemirror_mode": {
    "name": "ipython",
    "version": 3
   },
   "file_extension": ".py",
   "mimetype": "text/x-python",
   "name": "python",
   "nbconvert_exporter": "python",
   "pygments_lexer": "ipython3",
   "version": "3.8.18"
  }
 },
 "nbformat": 4,
 "nbformat_minor": 5
}
